{
 "cells": [
  {
   "cell_type": "code",
   "execution_count": 1,
   "metadata": {},
   "outputs": [
    {
     "ename": "SyntaxError",
     "evalue": "invalid syntax (<ipython-input-1-57e6ed759628>, line 35)",
     "output_type": "error",
     "traceback": [
      "\u001b[0;36m  File \u001b[0;32m\"<ipython-input-1-57e6ed759628>\"\u001b[0;36m, line \u001b[0;32m35\u001b[0m\n\u001b[0;31m    >>> import nltk\u001b[0m\n\u001b[0m     ^\u001b[0m\n\u001b[0;31mSyntaxError\u001b[0m\u001b[0;31m:\u001b[0m invalid syntax\n"
     ]
    }
   ],
   "source": [
    "import os\n",
    "\n",
    "from os import listdir\n",
    "\n",
    "def load_doc(filename):\n",
    "\t# open the file as read only\n",
    "\tfile = open(filename, 'r')\n",
    "\t# read all text\n",
    "\ttext = file.read()\n",
    "\t# close the file\n",
    "\tfile.close()\n",
    "\treturn text\n",
    " \n",
    "# specify directory to load\n",
    "directory = '/Users/parth.bhs/Library/Mobile Documents/com~apple~CloudDocs/SIP-AIML/review_polarity/txt_sentoken/neg'\n",
    "# walk through all files in the folder\n",
    "for filename in listdir(directory):\n",
    "\t# skip files that do not have the right extension\n",
    "\tif not filename.endswith(\".txt\"):\n",
    "\t\tcontinue\n",
    "\t# create the full path of the file to open\n",
    "\tpath = directory + '/' + filename\n",
    "\t# load document\n",
    "\tdoc = load_doc(path)\n",
    "\tprint('Loaded %s' % filename)\n",
    "\n",
    "directory = '/Users/parth.bhs/Library/Mobile Documents/com~apple~CloudDocs/SIP-AIML/review_polarity/txt_sentoken/neg'\n",
    "process_docs(directory) # -- ?? \n",
    "\n",
    "filename = 'Desktop/txt_sentoken/neg/cv258_5627.txt'\n",
    "text = load_doc(filename)\n",
    "# split into tokens by white space\n",
    "tokens = text.split()\n",
    "print(tokens)\n",
    ">>> import nltk\n",
    ">>> nltk.download()\n",
    "import numpy as np\n",
    "import nltk.corpus\n",
    "from nltk.corpus import stopwords\n",
    "import string\n",
    " \n",
    "# load doc into memory\n",
    "def load_doc(filename):\n",
    "\t# open the file as read only\n",
    "\tfile = open(filename, 'r')\n",
    "\t# read all text\n",
    "\ttext = file.read()\n",
    "\t# close the file\n",
    "\tfile.close()\n",
    "\treturn text\n",
    " \n",
    "# load the document\n",
    "filename = 'Desktop/txt_sentoken/neg/cv258_5627.txt'\n",
    "text = load_doc(filename)\n",
    "# split into tokens by white space\n",
    "tokens = text.split()\n",
    "# remove punctuation from each token\n",
    "table = str.maketrans('', '', string.punctuation)\n",
    "tokens = [w.translate(table) for w in tokens]\n",
    "# remove remaining tokens that are not alphabetic\n",
    "tokens = [word for word in tokens if word.isalpha()]\n",
    "# filter out stop words\n",
    "stop_words = set(stopwords.words('english'))\n",
    "tokens = [w for w in tokens if not w in stop_words]\n",
    "# filter out short tokens\n",
    "tokens = [word for word in tokens if len(word) > 1]\n",
    "print(tokens)\n"
   ]
  },
  {
   "cell_type": "code",
   "execution_count": 14,
   "metadata": {},
   "outputs": [
    {
     "data": {
      "text/plain": [
       "'say , tell me if you\\'ve seen this before : a crisis on-board a commercial airliner causes a stewardess to have to fly and land the plane herself . \\nairport \\'97 anyone ? \\nray liotta is a psychotic serial killer being transported from new york to california on christmas eve . \\namazingly , on what would seemingly be a busy day of travel on one of the most flown routes , only about six other passengers are on the flight . \\nanyway , they take off , liotta escapes and kills all the police and the pilots , and stewardess lauren holly locks herself in the cockpit to fly the plane . \\nthe story is beyond routine , the script is embarrassing ( at one point , this jumbo jet is flying completely upside down ) , the characters are worthless , and the performances are annoying . \\nsurprisingly , co-writer steven e . de souza actually wrote the first two \" die hard \" movies ! \\n \" turbulence \" takes place at christmas time , yet the film was released a few days after the holidays . \\nbrilliant marketing , as no one cares about anything having to do with christmas after december 26th . \\nthe studio knew they had a bomb , and purposely dumped it out when the fewest number of people would see it . \\n[r] \\n'"
      ]
     },
     "execution_count": 14,
     "metadata": {},
     "output_type": "execute_result"
    }
   ],
   "source": [
    "f = open(\"/Users/parth.bhs/Google Drive/SIP - Project/Parth - aiml/Sample taken for NLP/sample.txt\", 'rt')\n",
    "text=f.read()\n",
    "f.close()\n",
    "text"
   ]
  },
  {
   "cell_type": "code",
   "execution_count": 25,
   "metadata": {},
   "outputs": [
    {
     "name": "stderr",
     "output_type": "stream",
     "text": [
      "[nltk_data] Downloading package punkt to /Users/parth.bhs/nltk_data...\n",
      "[nltk_data]   Package punkt is already up-to-date!\n"
     ]
    },
    {
     "data": {
      "text/plain": [
       "True"
      ]
     },
     "execution_count": 25,
     "metadata": {},
     "output_type": "execute_result"
    }
   ],
   "source": [
    "import nltk\n",
    "nltk.download('punkt')"
   ]
  },
  {
   "cell_type": "code",
   "execution_count": 24,
   "metadata": {},
   "outputs": [
    {
     "data": {
      "text/plain": [
       "[\"say , tell me if you've seen this before : a crisis on-board a commercial airliner causes a stewardess to have to fly and land the plane herself .\",\n",
       " \"airport '97 anyone ?\",\n",
       " 'ray liotta is a psychotic serial killer being transported from new york to california on christmas eve .',\n",
       " 'amazingly , on what would seemingly be a busy day of travel on one of the most flown routes , only about six other passengers are on the flight .',\n",
       " 'anyway , they take off , liotta escapes and kills all the police and the pilots , and stewardess lauren holly locks herself in the cockpit to fly the plane .',\n",
       " 'the story is beyond routine , the script is embarrassing ( at one point , this jumbo jet is flying completely upside down ) , the characters are worthless , and the performances are annoying .',\n",
       " 'surprisingly , co-writer steven e .',\n",
       " 'de souza actually wrote the first two \" die hard \" movies ! \\n \"',\n",
       " 'turbulence \" takes place at christmas time , yet the film was released a few days after the holidays .',\n",
       " 'brilliant marketing , as no one cares about anything having to do with christmas after december 26th .',\n",
       " 'the studio knew they had a bomb , and purposely dumped it out when the fewest number of people would see it .',\n",
       " '[r]']"
      ]
     },
     "execution_count": 24,
     "metadata": {},
     "output_type": "execute_result"
    }
   ],
   "source": [
    "#Sentences \n",
    "from nltk import sent_tokenize\n",
    "sentences = sent_tokenize(text)\n",
    "sentences"
   ]
  },
  {
   "cell_type": "raw",
   "metadata": {},
   "source": [
    "#This part of converting the text into sentences is just for fun. It has nothing to do with the actual code. "
   ]
  },
  {
   "cell_type": "code",
   "execution_count": 29,
   "metadata": {},
   "outputs": [
    {
     "data": {
      "text/plain": [
       "'say , tell me if you\\'ve seen this before : a crisis on-board a commercial airliner causes a stewardess to have to fly and land the plane herself . \\nairport \\'97 anyone ? \\nray liotta is a psychotic serial killer being transported from new york to california on christmas eve . \\namazingly , on what would seemingly be a busy day of travel on one of the most flown routes , only about six other passengers are on the flight . \\nanyway , they take off , liotta escapes and kills all the police and the pilots , and stewardess lauren holly locks herself in the cockpit to fly the plane . \\nthe story is beyond routine , the script is embarrassing ( at one point , this jumbo jet is flying completely upside down ) , the characters are worthless , and the performances are annoying . \\nsurprisingly , co-writer steven e . de souza actually wrote the first two \" die hard \" movies ! \\n \" turbulence \" takes place at christmas time , yet the film was released a few days after the holidays . \\nbrilliant marketing , as no one cares about anything having to do with christmas after december 26th . \\nthe studio knew they had a bomb , and purposely dumped it out when the fewest number of people would see it . \\n[r] \\n'"
      ]
     },
     "execution_count": 29,
     "metadata": {},
     "output_type": "execute_result"
    }
   ],
   "source": [
    "from nltk.tokenize import word_tokenize\n",
    "tokens=word_tokenize(text)\n",
    "text"
   ]
  },
  {
   "cell_type": "code",
   "execution_count": 46,
   "metadata": {},
   "outputs": [
    {
     "name": "stdout",
     "output_type": "stream",
     "text": [
      "['say', 'tell', 'me', 'if', 'you', 'seen', 'this', 'before', 'a', 'crisis', 'a', 'commercial', 'airliner', 'causes', 'a', 'stewardess', 'to', 'have', 'to', 'fly', 'and', 'land', 'the', 'plane', 'herself', 'airport', 'anyone', 'ray', 'liotta', 'is', 'a', 'psychotic', 'serial', 'killer', 'being', 'transported', 'from', 'new', 'york', 'to', 'california', 'on', 'christmas', 'eve', 'amazingly', 'on', 'what', 'would', 'seemingly', 'be', 'a', 'busy', 'day', 'of', 'travel', 'on', 'one', 'of', 'the', 'most', 'flown', 'routes', 'only', 'about', 'six', 'other', 'passengers', 'are', 'on', 'the', 'flight', 'anyway', 'they', 'take', 'off', 'liotta', 'escapes', 'and', 'kills', 'all', 'the', 'police', 'and', 'the', 'pilots', 'and', 'stewardess', 'lauren', 'holly', 'locks', 'herself', 'in', 'the', 'cockpit', 'to', 'fly', 'the', 'plane', 'the', 'story', 'is', 'beyond', 'routine', 'the', 'script', 'is', 'embarrassing', 'at', 'one', 'point', 'this', 'jumbo', 'jet', 'is', 'flying', 'completely', 'upside', 'down', 'the', 'characters', 'are', 'worthless', 'and', 'the', 'performances', 'are', 'annoying', 'surprisingly', 'steven', 'e', 'de', 'souza', 'actually', 'wrote', 'the', 'first', 'two', 'die', 'hard', 'movies', 'turbulence', 'takes', 'place', 'at', 'christmas', 'time', 'yet', 'the', 'film', 'was', 'released', 'a', 'few', 'days', 'after', 'the', 'holidays', 'brilliant', 'marketing', 'as', 'no', 'one', 'cares', 'about', 'anything', 'having', 'to', 'do', 'with', 'christmas', 'after', 'december', 'the', 'studio', 'knew', 'they', 'had', 'a', 'bomb', 'and', 'purposely', 'dumped', 'it', 'out', 'when', 'the', 'fewest', 'number', 'of', 'people', 'would', 'see', 'it', 'r']\n"
     ]
    }
   ],
   "source": [
    "#removing punchuations \n",
    "# I am using a function of the Python called isAlpha() to keep those tokens which are alphanumeric. \n",
    "words = [word for word in tokens if word.isalpha()]\n",
    "print(words[:200]) # To show that first hundered words from the tokens list. "
   ]
  },
  {
   "cell_type": "code",
   "execution_count": 50,
   "metadata": {},
   "outputs": [
    {
     "data": {
      "text/plain": [
       "{'a', 'for', 'if', 'it', 'off', 'out', 'to', 've'}"
      ]
     },
     "execution_count": 50,
     "metadata": {},
     "output_type": "execute_result"
    }
   ],
   "source": [
    "# Stop words are the words which don't contribute to the depper meaning of the text. So, I am removing 'em.\n",
    "#import nltk\n",
    "#nltk.download('stopwords')\n",
    "#from nltk.corpus import stopwords\n",
    "#stop_words = stopwords.words('english')\n",
    "#stop_words = stopwords.words('english')\n",
    "#pic={'it','out','off','if','a','to','for','a','ve'} # Here I am trying to remove the Punchuations, Interjuctions and conjunction from the given text.\n",
    "#print(stop_words[:10]) \n",
    "# These are the commonly agreed upon stop words. "
   ]
  },
  {
   "cell_type": "code",
   "execution_count": 55,
   "metadata": {},
   "outputs": [
    {
     "ename": "SyntaxError",
     "evalue": "invalid syntax (<ipython-input-55-0e328c0e768c>, line 1)",
     "output_type": "error",
     "traceback": [
      "\u001b[0;36m  File \u001b[0;32m\"<ipython-input-55-0e328c0e768c>\"\u001b[0;36m, line \u001b[0;32m1\u001b[0m\n\u001b[0;31m    wrds = [for words in tokens if(words!=pic)]\u001b[0m\n\u001b[0m              ^\u001b[0m\n\u001b[0;31mSyntaxError\u001b[0m\u001b[0;31m:\u001b[0m invalid syntax\n"
     ]
    }
   ],
   "source": [
    "#wrds = [words for words in tokens if(words!=pic)] \n",
    "#print(wrds)"
   ]
  },
  {
   "cell_type": "code",
   "execution_count": 2,
   "metadata": {},
   "outputs": [
    {
     "ename": "NameError",
     "evalue": "name 'mp' is not defined",
     "output_type": "error",
     "traceback": [
      "\u001b[0;31m---------------------------------------------------------------------------\u001b[0m",
      "\u001b[0;31mNameError\u001b[0m                                 Traceback (most recent call last)",
      "\u001b[0;32m<ipython-input-2-870e5439436e>\u001b[0m in \u001b[0;36m<module>\u001b[0;34m\u001b[0m\n\u001b[0;32m----> 1\u001b[0;31m \u001b[0mmp\u001b[0m\u001b[0;34m\u001b[0m\u001b[0;34m\u001b[0m\u001b[0m\n\u001b[0m",
      "\u001b[0;31mNameError\u001b[0m: name 'mp' is not defined"
     ]
    }
   ],
   "source": [
    "# Reducing the word to it's root base "
   ]
  },
  {
   "cell_type": "code",
   "execution_count": null,
   "metadata": {},
   "outputs": [],
   "source": [
    "# Please apply Text Blob polarity checker over here. Parth. "
   ]
  }
 ],
 "metadata": {
  "kernelspec": {
   "display_name": "Python 3",
   "language": "python",
   "name": "python3"
  },
  "language_info": {
   "codemirror_mode": {
    "name": "ipython",
    "version": 3
   },
   "file_extension": ".py",
   "mimetype": "text/x-python",
   "name": "python",
   "nbconvert_exporter": "python",
   "pygments_lexer": "ipython3",
   "version": "3.7.3"
  }
 },
 "nbformat": 4,
 "nbformat_minor": 2
}
